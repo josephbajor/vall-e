{
 "cells": [
  {
   "cell_type": "code",
   "execution_count": 33,
   "metadata": {},
   "outputs": [],
   "source": [
    "from encodec import EncodecModel\n",
    "from encodec.utils import convert_audio\n",
    "import torchaudio\n",
    "import torch\n",
    "import glob\n",
    "from IPython.lib.display import Audio"
   ]
  },
  {
   "cell_type": "code",
   "execution_count": 4,
   "metadata": {},
   "outputs": [],
   "source": [
    "data_paths = glob.glob('/home/jbajor/Dev/datasets/LibriLight/small/**/*.flac', recursive=True)"
   ]
  },
  {
   "cell_type": "code",
   "execution_count": 79,
   "metadata": {},
   "outputs": [],
   "source": [
    "model = EncodecModel.encodec_model_24khz()\n",
    "model.set_target_bandwidth(6.0)\n",
    "\n",
    "flac, sr = torchaudio.load(data_paths[8])\n",
    "flac = flac.unsqueeze(0)\n",
    "flac = convert_audio(flac, sr, model.sample_rate, model.channels)"
   ]
  },
  {
   "cell_type": "code",
   "execution_count": 80,
   "metadata": {},
   "outputs": [],
   "source": [
    "with torch.no_grad():\n",
    "    encoded_frames = model.encode(flac)\n",
    "codes = torch.cat([encoded[0] for encoded in encoded_frames], dim=-1)"
   ]
  },
  {
   "cell_type": "code",
   "execution_count": 81,
   "metadata": {},
   "outputs": [],
   "source": [
    "codes[0,1,:].max()\n",
    "\n",
    "save = 5\n",
    "\n",
    "for i in range(encoded_frames[0][0].shape[1]-save):\n",
    "    encoded_frames[0][0][0,i+save,:] = torch.randint(low=0, high=1023, size=(encoded_frames[0][0].shape[2],))"
   ]
  },
  {
   "cell_type": "code",
   "execution_count": 82,
   "metadata": {},
   "outputs": [],
   "source": [
    "decoded_output = model.decode(encoded_frames).squeeze()"
   ]
  },
  {
   "cell_type": "code",
   "execution_count": 83,
   "metadata": {},
   "outputs": [],
   "source": [
    "torchaudio.save('/home/jbajor/Dev/datasets/LibriLight/test.wav', decoded_output.unsqueeze(0), model.sample_rate)"
   ]
  }
 ],
 "metadata": {
  "kernelspec": {
   "display_name": "RPD",
   "language": "python",
   "name": "python3"
  },
  "language_info": {
   "codemirror_mode": {
    "name": "ipython",
    "version": 3
   },
   "file_extension": ".py",
   "mimetype": "text/x-python",
   "name": "python",
   "nbconvert_exporter": "python",
   "pygments_lexer": "ipython3",
   "version": "3.9.13"
  },
  "orig_nbformat": 4,
  "vscode": {
   "interpreter": {
    "hash": "e74fa2c020b2b56461022e94ba531459201a9e878f9200cb4f094e2d001700b4"
   }
  }
 },
 "nbformat": 4,
 "nbformat_minor": 2
}
